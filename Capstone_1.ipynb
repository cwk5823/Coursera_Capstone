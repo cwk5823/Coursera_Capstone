!pip install BeautifulSoup4
!pip install requests

from bs4 import BeautifulSoup
import requests
import pandas as pd
import numpy as np

source = requests.get("https://en.wikipedia.org/wiki/List_of_postal_codes_of_Canada:_M").text
soup = BeautifulSoup(source, "lxml")
print(soup.prettify())

table = soup.find("table", {"class":"wikitable sortable"})
table_rows = table.find_all('tr')
print(table_rows)

empty_list=[]
for row in table_rows:
    empty_list.append([t.text.strip() for t in row.find_all("td")])
print(empty_list)

df = pd.DataFrame(empty_list, columns=["PostalCode", "Borough", "Neighbourhood"])
print(df.head(15))

df = df[~df['PostalCode'].isnull()]  # filter null list items
print(df.head(15))
